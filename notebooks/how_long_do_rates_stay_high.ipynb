{
 "cells": [
  {
   "cell_type": "code",
   "execution_count": null,
   "metadata": {},
   "outputs": [],
   "source": [
    "import os,sys\n",
    "import pandas as pd\n",
    "import numpy as np\n",
    "import seaborn as sns\n",
    "import matplotlib.pyplot as plt\n",
    "from datetime import datetime\n",
    "from dotenv import load_dotenv"
   ]
  },
  {
   "cell_type": "code",
   "execution_count": null,
   "metadata": {},
   "outputs": [],
   "source": [
    "cd .."
   ]
  },
  {
   "cell_type": "code",
   "execution_count": null,
   "metadata": {},
   "outputs": [],
   "source": [
    "from utils.extract_fred_data import extract_fred_data"
   ]
  },
  {
   "cell_type": "code",
   "execution_count": null,
   "metadata": {},
   "outputs": [],
   "source": [
    "load_dotenv()  # take environment variables from .env.\n",
    "fred_api_key = os.getenv('fred_api_key')"
   ]
  },
  {
   "cell_type": "code",
   "execution_count": null,
   "metadata": {},
   "outputs": [],
   "source": [
    "fed_funds_rate = extract_fred_data(fred_api_key,'FEDFUNDS')[0]"
   ]
  },
  {
   "cell_type": "code",
   "execution_count": null,
   "metadata": {},
   "outputs": [],
   "source": [
    "fed_funds_rate"
   ]
  },
  {
   "cell_type": "code",
   "execution_count": null,
   "metadata": {},
   "outputs": [],
   "source": [
    "fed_funds_rate.plot()"
   ]
  },
  {
   "cell_type": "code",
   "execution_count": null,
   "metadata": {},
   "outputs": [],
   "source": [
    "fed_funds_rate = fed_funds_rate.round(2)"
   ]
  },
  {
   "cell_type": "code",
   "execution_count": null,
   "metadata": {},
   "outputs": [],
   "source": [
    "number_of_months = int(12*2.1)\n",
    "\n",
    "fed_funds_rate_rolling_max = fed_funds_rate.rolling(number_of_months, min_periods=1).max()\n",
    "\n",
    "fed_funds_rate_reversed = fed_funds_rate.iloc[::-1]\n",
    "fed_funds_rate_rolling_max_forward_reversed = fed_funds_rate_reversed.rolling(number_of_months, min_periods=1).max()\n",
    "\n",
    "fed_funds_rate_rolling_max_forward = fed_funds_rate_rolling_max_forward_reversed.iloc[::-1]\n",
    "\n",
    "fed_funds_rate_peaks = fed_funds_rate[(fed_funds_rate == fed_funds_rate_rolling_max) & (fed_funds_rate == fed_funds_rate_rolling_max_forward)]"
   ]
  },
  {
   "cell_type": "code",
   "execution_count": null,
   "metadata": {},
   "outputs": [],
   "source": [
    "fed_funds_rate_peaks = pd.DataFrame(fed_funds_rate_peaks)\n",
    "fed_funds_rate_peaks.columns = ['peaks']\n",
    "fed_funds_rate_peaks['peaks'] = fed_funds_rate_peaks['peaks'].astype('float64')\n",
    "\n",
    "fed_funds_rate_peaks = fed_funds_rate_peaks[fed_funds_rate_peaks['peaks'].notnull()]\n",
    "fed_funds_rate_peaks"
   ]
  },
  {
   "cell_type": "code",
   "execution_count": null,
   "metadata": {},
   "outputs": [],
   "source": [
    "mask = pd.Series([False] * len(fed_funds_rate_peaks), index=fed_funds_rate_peaks.index)\n",
    "\n",
    "for i in range(len(fed_funds_rate_peaks)):\n",
    "    if i == 0 or fed_funds_rate_peaks['peaks'].iloc[i] != fed_funds_rate_peaks['peaks'].iloc[i-1]:\n",
    "        mask.iloc[i] = True\n",
    "\n",
    "result_df = fed_funds_rate_peaks[mask]\n",
    "\n",
    "result_df"
   ]
  },
  {
   "cell_type": "code",
   "execution_count": null,
   "metadata": {},
   "outputs": [],
   "source": [
    "fed_funds_rate_combined = fed_funds_rate.merge(result_df, how='left', left_index=True, right_index=True)\n",
    "fed_funds_rate_combined"
   ]
  },
  {
   "cell_type": "code",
   "execution_count": null,
   "metadata": {},
   "outputs": [],
   "source": [
    "sns.set_style('darkgrid')\n",
    "plt.figure(figsize=(12,6))\n",
    "plt.plot(fed_funds_rate_combined['fedfunds'], label='Federal Funds Rate')\n",
    "plt.scatter(fed_funds_rate_combined.index, fed_funds_rate_combined['peaks'], color='r', label='Peaks')\n",
    "plt.fill_between(fed_funds_rate_combined.index, 0, fed_funds_rate_combined['peaks'], color='r', alpha=0.3)\n",
    "plt.legend()\n",
    "plt.show()\n"
   ]
  },
  {
   "cell_type": "code",
   "execution_count": null,
   "metadata": {},
   "outputs": [],
   "source": [
    "fed_funds_rate_combined"
   ]
  },
  {
   "cell_type": "code",
   "execution_count": null,
   "metadata": {},
   "outputs": [],
   "source": [
    "df = fed_funds_rate_combined.copy()\n",
    "\n",
    "percentages = [0.9, 0.8, 0.7, 0.6, 0.5, 0.4]\n",
    "results_df = pd.DataFrame()\n",
    "\n",
    "peak_dates = []\n",
    "\n",
    "for i in range(len(df)):\n",
    "    if not pd.isna(df['peaks'].iloc[i]):\n",
    "        peak_dates.append(df.index[i])\n",
    "\n",
    "for percentage in percentages:\n",
    "    current_results = []\n",
    "    for i in range(len(df)):\n",
    "        if not pd.isna(df['peaks'].iloc[i]):\n",
    "            peak_value = df['peaks'].iloc[i]\n",
    "            peak_date = df.index[i]\n",
    "            for j in range(i+1, len(df)):\n",
    "                if df['fedfunds'].iloc[j] <= peak_value * percentage:\n",
    "                    months_after = (df.index[j].year - peak_date.year) * 12 + df.index[j].month - peak_date.month\n",
    "                    current_results.append(months_after)\n",
    "                    break  \n",
    "                elif j == len(df) - 1:\n",
    "                    current_results.append(None)\n",
    "\n",
    "    current_results_df = pd.DataFrame(current_results, columns=[f'Months for rates to fall {-(percentage-1)*100:.0f}% from peak'])\n",
    "    results_df = pd.concat([results_df, current_results_df], axis=1)\n",
    "\n",
    "results_df['Peak Date'] = peak_dates\n",
    "\n",
    "results_df.set_index('Peak Date', inplace=True)\n",
    "\n",
    "results_df\n",
    "\n",
    "results_df.dropna(inplace=True)"
   ]
  },
  {
   "cell_type": "code",
   "execution_count": null,
   "metadata": {},
   "outputs": [],
   "source": [
    "results_df.index = results_df.index.strftime('%b %Y')\n",
    "results_df = results_df.astype('int')\n",
    "results_df"
   ]
  },
  {
   "cell_type": "code",
   "execution_count": null,
   "metadata": {},
   "outputs": [],
   "source": [
    "# Set the aesthetic style of the plots\n",
    "sns.set_style(\"darkgrid\")\n",
    "\n",
    "plt.figure(figsize=(10, 6))\n",
    "\n",
    "reversed_df = results_df.set_index(results_df.index).T.iloc[::-1]\n",
    "\n",
    "sns.heatmap(reversed_df, annot=True, fmt=\".0f\", cmap=\"YlOrRd\")\n",
    "\n",
    "plt.title('Months After Peak to Reach Specified Percentage of Peak Value')\n",
    "plt.xlabel('Peak Date')\n",
    "plt.ylabel('Percentage of Peak Value')\n",
    "\n",
    "plt.show()"
   ]
  },
  {
   "cell_type": "code",
   "execution_count": null,
   "metadata": {},
   "outputs": [],
   "source": [
    "mean_df = pd.DataFrame(results_df.mean(), columns=['mean'])\n",
    "std_df = pd.DataFrame(results_df.std(), columns=['std'])\n",
    "median_std_df = pd.concat([mean_df, std_df], axis=1)\n",
    "median_std_df"
   ]
  },
  {
   "cell_type": "code",
   "execution_count": null,
   "metadata": {},
   "outputs": [],
   "source": [
    "y = median_std_df.index\n",
    "\n",
    "x = median_std_df['mean']\n",
    "\n",
    "xerr = median_std_df['std']\n",
    "x_upper = x + xerr\n",
    "x_lower = x - xerr\n",
    "\n",
    "plt.figure(figsize=(10,6))\n",
    "\n",
    "plt.plot(x, y, label='Mean', color='blue')\n",
    "\n",
    "plt.fill_betweenx(y, x_lower, x_upper, color='blue', alpha=0.2, label='1 Std Dev')\n",
    "\n",
    "plt.title('Mean with Standard Deviation')\n",
    "plt.ylabel('Percentage of Peak Value')\n",
    "plt.xlabel('Months After Peak')\n",
    "\n",
    "plt.legend()\n",
    "\n",
    "plt.gca().invert_yaxis()\n",
    "\n",
    "plt.show()"
   ]
  },
  {
   "cell_type": "code",
   "execution_count": null,
   "metadata": {},
   "outputs": [],
   "source": [
    "data = {\n",
    "    'MEETING DATE': ['11/1/2023', '12/13/2023', '1/31/2024', '3/20/2024', '5/1/2024', '6/12/2024', '7/31/2024', '9/18/2024', '11/7/2024', '12/18/2024'],\n",
    "    '350-375': [0.0, 0.0, 0.0, 0.0, 0.0, 0.0, 0.0, 0.0, 0.0, 0.2],\n",
    "    '375-400': [0.0, 0.0, 0.0, 0.0, 0.0, 0.0, 0.0, 0.0, 0.5, 2.3],\n",
    "    '400-425': [0.0, 0.0, 0.0, 0.0, 0.0, 0.0, 0.0, 0.8, 4.4, 9.7],\n",
    "    '425-450': [0.0, 0.0, 0.0, 0.0, 0.0, 0.0, 1.5, 7.3, 15.6, 21.6],\n",
    "    '450-475': [0.0, 0.0, 0.0, 0.0, 0.1, 2.5, 11.8, 22.5, 28.2, 28.4],\n",
    "    '475-500': [1.1, 0.0, 0.0, 0.1, 5.3, 18.5, 30.6, 32.9, 28.5, 22.9],\n",
    "    '500-525': [98.9, 0.9, 0.8, 12.7, 33.6, 39.5, 34.6, 24.9, 16.6, 11.2],\n",
    "    '525-550': [0.0, 79.6, 70.7, 63.1, 46.2, 31.1, 17.6, 9.7, 5.3, 3.2],\n",
    "    '550-575': [0.0, 19.5, 26.3, 22.2, 13.8, 7.9, 3.6, 1.7, 0.8, 0.5],\n",
    "    '575-600': [0.0, 0.0, 2.2, 1.8, 1.1, 0.6, 0.2, 0.1, 0.0, 0.0]\n",
    "}\n",
    "\n",
    "rate_probabilities_df = pd.DataFrame(data)\n",
    "\n",
    "rate_probabilities_df\n",
    "\n",
    "rate_probabilities_df['MEETING DATE'] = pd.to_datetime(rate_probabilities_df['MEETING DATE'])\n",
    "\n",
    "rate_probabilities_df['MONTHS FROM NOW'] = rate_probabilities_df['MEETING DATE'].apply(lambda x: (x.year - datetime.now().year) * 12 + x.month - datetime.now().month)\n",
    "\n",
    "rate_probabilities_df"
   ]
  },
  {
   "cell_type": "code",
   "execution_count": null,
   "metadata": {},
   "outputs": [],
   "source": [
    "df = rate_probabilities_df.copy()\n",
    "\n",
    "df_numeric = df.iloc[:, 1:-1].apply(pd.to_numeric)\n",
    "\n",
    "result_data = []\n",
    "\n",
    "for idx, row in df.iterrows():\n",
    "    rate_range = df_numeric.loc[idx].idxmax()\n",
    "    \n",
    "    lower, upper = map(float, rate_range.split('-'))\n",
    "    most_likely_rate = (lower + upper) / 2 / 100 \n",
    "    \n",
    "    months_from_now = row['MONTHS FROM NOW']\n",
    "    \n",
    "    result_data.append({\n",
    "        'MONTHS FROM NOW': months_from_now,\n",
    "        'MOST LIKELY RATE': most_likely_rate\n",
    "    })\n",
    "\n",
    "result_df = pd.DataFrame(result_data)"
   ]
  },
  {
   "cell_type": "code",
   "execution_count": null,
   "metadata": {},
   "outputs": [],
   "source": [
    "current_rate = fed_funds_rate_combined.loc[fed_funds_rate_combined.index.max(), 'fedfunds']\n",
    "\n",
    "plt.figure(figsize=(10,6))\n",
    "plt.title('Path Down from Current Rate based on Historical Medians')\n",
    "plt.xlabel('Months from Now')\n",
    "plt.ylabel('Federal Funds Rate (%)')\n",
    "\n",
    "for i, row in median_std_df.iterrows():\n",
    "    percentage_label = i.split(' ')[-3]\n",
    "    print(percentage_label)\n",
    "    percentage = float(percentage_label.replace('%', '')) / 100\n",
    "    median_months = row['mean']\n",
    "    x = np.arange(0, int(median_months) + 1) \n",
    "    y = np.linspace(current_rate, current_rate * (1-percentage), len(x))\n",
    "    plt.plot(x, y, label=f'{percentage_label} of current rate')\n",
    "\n",
    "plt.plot(result_df['MONTHS FROM NOW'], result_df['MOST LIKELY RATE'], marker='o', linestyle='-', color='red', label='Most likely rate according to FedWatch')\n",
    "\n",
    "plt.legend()\n",
    "\n",
    "plt.show()"
   ]
  },
  {
   "cell_type": "code",
   "execution_count": null,
   "metadata": {},
   "outputs": [],
   "source": []
  }
 ],
 "metadata": {
  "kernelspec": {
   "display_name": "env",
   "language": "python",
   "name": "python3"
  },
  "language_info": {
   "codemirror_mode": {
    "name": "ipython",
    "version": 3
   },
   "file_extension": ".py",
   "mimetype": "text/x-python",
   "name": "python",
   "nbconvert_exporter": "python",
   "pygments_lexer": "ipython3",
   "version": "3.9.10"
  }
 },
 "nbformat": 4,
 "nbformat_minor": 2
}

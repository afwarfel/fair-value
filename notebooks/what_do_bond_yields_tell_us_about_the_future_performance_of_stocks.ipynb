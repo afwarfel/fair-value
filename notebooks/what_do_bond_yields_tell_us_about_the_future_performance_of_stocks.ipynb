{
  "cells": [
    {
      "cell_type": "code",
      "execution_count": null,
      "metadata": {},
      "outputs": [],
      "source": [
        "import pandas as pd\n",
        "from dotenv import load_dotenv\n",
        "import os"
      ]
    },
    {
      "cell_type": "code",
      "execution_count": null,
      "metadata": {},
      "outputs": [],
      "source": [
        "cd .."
      ]
    },
    {
      "cell_type": "code",
      "execution_count": null,
      "metadata": {},
      "outputs": [],
      "source": [
        "from utils.capture_multiple_fred_series import capture_multiple_fred_series"
      ]
    },
    {
      "cell_type": "code",
      "execution_count": null,
      "metadata": {},
      "outputs": [],
      "source": [
        "load_dotenv()  # take environment variables from .env.\n",
        "fred_api_key = os.getenv('fred_api_key')"
      ]
    },
    {
      "cell_type": "code",
      "execution_count": null,
      "metadata": {},
      "outputs": [],
      "source": [
        "combined_data = capture_multiple_fred_series(['FEDFUNDS','WILL5000IND'],fred_api_key)"
      ]
    },
    {
      "cell_type": "code",
      "execution_count": null,
      "metadata": {},
      "outputs": [],
      "source": [
        "combined_data.dropna(how='all',inplace=True)"
      ]
    },
    {
      "cell_type": "code",
      "execution_count": null,
      "metadata": {},
      "outputs": [],
      "source": [
        "combined_data.plot()"
      ]
    },
    {
      "cell_type": "code",
      "execution_count": null,
      "metadata": {},
      "outputs": [],
      "source": [
        "fed_funds_rate = combined_data['fedfunds'].copy()"
      ]
    },
    {
      "cell_type": "code",
      "execution_count": null,
      "metadata": {},
      "outputs": [],
      "source": [
        "fed_funds_rate = fed_funds_rate.resample('MS').first()\n",
        "fed_funds_rate = fed_funds_rate.round(2)"
      ]
    },
    {
      "cell_type": "code",
      "execution_count": null,
      "metadata": {},
      "outputs": [],
      "source": [
        "number_of_months = int(12*2.1)\n",
        "\n",
        "fed_funds_rate_rolling_max = fed_funds_rate.rolling(number_of_months, min_periods=1).max()\n",
        "\n",
        "fed_funds_rate_reversed = fed_funds_rate.iloc[::-1]\n",
        "fed_funds_rate_rolling_max_forward_reversed = fed_funds_rate_reversed.rolling(number_of_months, min_periods=1).max()\n",
        "\n",
        "fed_funds_rate_rolling_max_forward = fed_funds_rate_rolling_max_forward_reversed.iloc[::-1]\n",
        "\n",
        "fed_funds_rate_peaks = fed_funds_rate[(fed_funds_rate == fed_funds_rate_rolling_max) & (fed_funds_rate == fed_funds_rate_rolling_max_forward)]"
      ]
    },
    {
      "cell_type": "code",
      "execution_count": null,
      "metadata": {},
      "outputs": [],
      "source": [
        "fed_funds_rate_peaks = pd.DataFrame(fed_funds_rate_peaks)\n",
        "fed_funds_rate_peaks.columns = ['peaks']\n",
        "fed_funds_rate_peaks['peaks'] = fed_funds_rate_peaks['peaks'].astype('float64')\n",
        "\n",
        "fed_funds_rate_peaks = fed_funds_rate_peaks[fed_funds_rate_peaks['peaks'].notnull()]\n",
        "fed_funds_rate_peaks"
      ]
    },
    {
      "cell_type": "code",
      "execution_count": null,
      "metadata": {},
      "outputs": [],
      "source": [
        "mask = pd.Series([False] * len(fed_funds_rate_peaks), index=fed_funds_rate_peaks.index)\n",
        "\n",
        "for i in range(len(fed_funds_rate_peaks)):\n",
        "    if i == 0 or fed_funds_rate_peaks['peaks'].iloc[i] != fed_funds_rate_peaks['peaks'].iloc[i-1]:\n",
        "        mask.iloc[i] = True\n",
        "\n",
        "result_df = fed_funds_rate_peaks[mask]\n",
        "\n",
        "result_df"
      ]
    },
    {
      "cell_type": "code",
      "execution_count": null,
      "metadata": {},
      "outputs": [],
      "source": [
        "# now that we have the peak dates, create a dataframe with a column for the date of the wilshire 5000 index value, the wilshire 5000 index value, the peak fed funds rate, and the peak fed funds rate date. \n",
        "\n",
        "wilshire_5000 = combined_data['will5000ind'].copy()\n",
        "\n",
        "wilshire_5000 = wilshire_5000.resample('MS').first()\n",
        "\n",
        "wilshire_5000 = wilshire_5000.round(2)\n",
        "\n",
        "wilshire_5000 = pd.DataFrame(wilshire_5000)\n",
        "\n",
        "wilshire_5000.columns = ['wilshire_5000']\n",
        "\n",
        "wilshire_5000 = wilshire_5000[wilshire_5000['wilshire_5000'].notnull()]\n",
        "\n",
        "wilshire_5000"
      ]
    },
    {
      "cell_type": "code",
      "execution_count": null,
      "metadata": {},
      "outputs": [],
      "source": [
        "wilshire_5000 = wilshire_5000.merge(result_df, how='left', left_index=True, right_index=True)\n",
        "\n",
        "wilshire_5000['peak_fed_funds_rate_date'] = wilshire_5000.index\n",
        "\n",
        "wilshire_5000['peak_fed_funds_rate_date'] = wilshire_5000['peak_fed_funds_rate_date'].where(wilshire_5000['peaks'].notnull(), other=None)\n",
        "\n",
        "wilshire_5000['peaks'] = wilshire_5000['peaks'].fillna(method='ffill', limit=24)\n",
        "\n",
        "wilshire_5000['peak_fed_funds_rate_date'] = wilshire_5000['peak_fed_funds_rate_date'].fillna(method='ffill', limit=24)\n",
        "\n",
        "wilshire_5000 = wilshire_5000[wilshire_5000['peaks'].notnull()]\n",
        "\n",
        "wilshire_5000['wilshire_5000_pct_change'] = wilshire_5000.groupby('peak_fed_funds_rate_date')['wilshire_5000'].pct_change()+1\n",
        "\n",
        "wilshire_5000['wilshire_5000_pct_change'] = wilshire_5000['wilshire_5000_pct_change'].fillna(1)\n",
        "\n",
        "wilshire_5000"
      ]
    },
    {
      "cell_type": "code",
      "execution_count": null,
      "metadata": {},
      "outputs": [],
      "source": [
        "wilshire_5000 = wilshire_5000[['peak_fed_funds_rate_date','wilshire_5000_pct_change']]\n",
        "wilshire_5000"
      ]
    },
    {
      "cell_type": "code",
      "execution_count": null,
      "metadata": {},
      "outputs": [],
      "source": [
        "wilshire_5000['rownumber'] = wilshire_5000.groupby('peak_fed_funds_rate_date').cumcount()\n",
        "wilshire_5000"
      ]
    },
    {
      "cell_type": "code",
      "execution_count": null,
      "metadata": {},
      "outputs": [],
      "source": [
        "wilshire_5000['cumulative_product'] = wilshire_5000.groupby('peak_fed_funds_rate_date')['wilshire_5000_pct_change'].cumprod()\n",
        "wilshire_5000"
      ]
    },
    {
      "cell_type": "code",
      "execution_count": null,
      "metadata": {},
      "outputs": [],
      "source": [
        "wilshire_5000 = wilshire_5000.pivot(index='rownumber', columns='peak_fed_funds_rate_date', values='cumulative_product')\n",
        "wilshire_5000"
      ]
    },
    {
      "cell_type": "code",
      "execution_count": null,
      "metadata": {},
      "outputs": [],
      "source": [
        "wilshire_5000.columns = pd.to_datetime(wilshire_5000.columns, format='%B %Y')\n",
        "wilshire_5000 = wilshire_5000.reindex(sorted(wilshire_5000.columns), axis=1)\n",
        "wilshire_5000"
      ]
    },
    {
      "cell_type": "code",
      "execution_count": null,
      "metadata": {},
      "outputs": [],
      "source": [
        "wilshire_5000.columns = wilshire_5000.columns.strftime('%B %Y')\n",
        "wilshire_5000"
      ]
    },
    {
      "cell_type": "code",
      "execution_count": null,
      "metadata": {},
      "outputs": [],
      "source": [
        "wilshire_5000 = wilshire_5000 - 1\n",
        "wilshire_5000 = wilshire_5000.round(4)\n",
        "wilshire_5000 = wilshire_5000.rename(columns={'rownumber':'months_since_peak'})\n",
        "wilshire_5000"
      ]
    },
    {
      "cell_type": "code",
      "execution_count": null,
      "metadata": {},
      "outputs": [],
      "source": [
        "import matplotlib.pyplot as plt\n",
        "import matplotlib.ticker as mtick\n",
        "\n",
        "wilshire_5000.plot(colormap='Blues', legend=False)\n",
        "\n",
        "plt.title('Wilshire 5000 Index Performance Relative to Peak Fed Funds Rate')\n",
        "plt.xlabel('Months Since Peak Fed Funds Rate')\n",
        "plt.ylabel('Wilshire 5000 Index Performance')\n",
        "plt.legend(loc='upper left')\n",
        "\n",
        "fmt = '%.1f%%'\n",
        "yticks = mtick.FormatStrFormatter(fmt)\n",
        "plt.gca().yaxis.set_major_formatter(yticks)\n",
        "\n",
        "plt.show()"
      ]
    },
    {
      "cell_type": "code",
      "execution_count": null,
      "metadata": {},
      "outputs": [],
      "source": [
        "index_return_data = combined_data['will5000ind'].copy()\n",
        "\n",
        "index_return_data = index_return_data.resample('MS').first()\n",
        "\n",
        "index_return_data.dropna(inplace=True)\n",
        "index_return_data = pd.DataFrame(index_return_data)\n",
        "index_return_data.reset_index(inplace=True)\n",
        "index_return_data"
      ]
    },
    {
      "cell_type": "code",
      "execution_count": null,
      "metadata": {},
      "outputs": [],
      "source": [
        "new_dataframe = pd.DataFrame()\n",
        "\n",
        "for i in range(len(index_return_data)):\n",
        "    if i + 24 < len(index_return_data):\n",
        "        temp_dataframe = index_return_data.iloc[i:i+25].copy()\n",
        "        temp_dataframe['beginning_date'] = index_return_data['date'].iloc[i]\n",
        "        temp_dataframe['beginning_value'] = index_return_data['will5000ind'].iloc[i]\n",
        "        new_dataframe = pd.concat([new_dataframe, temp_dataframe], ignore_index=True)\n",
        "\n",
        "new_dataframe['row_number'] = new_dataframe.groupby('beginning_date')['date'].cumcount()\n",
        "\n",
        "new_dataframe['cumulative_product'] = new_dataframe['will5000ind']/new_dataframe['beginning_value']\n",
        "\n",
        "new_dataframe"
      ]
    },
    {
      "cell_type": "code",
      "execution_count": null,
      "metadata": {},
      "outputs": [],
      "source": [
        "average_cumulative_product = new_dataframe.groupby('row_number')['cumulative_product'].mean()-1\n",
        "average_cumulative_product\n"
      ]
    },
    {
      "cell_type": "code",
      "execution_count": null,
      "metadata": {},
      "outputs": [],
      "source": [
        "combined_df = pd.concat([wilshire_5000, average_cumulative_product], axis=1)\n",
        "combined_df.rename(columns={'cumulative_product':'Mean cumulative return over period'}, inplace=True)\n",
        "combined_df"
      ]
    }
  ],
  "metadata": {
    "kernelspec": {
      "display_name": "env",
      "language": "python",
      "name": "python3"
    },
    "language_info": {
      "codemirror_mode": {
        "name": "ipython",
        "version": 3
      },
      "file_extension": ".py",
      "mimetype": "text/x-python",
      "name": "python",
      "nbconvert_exporter": "python",
      "pygments_lexer": "ipython3",
      "version": "3.9.10"
    }
  },
  "nbformat": 4,
  "nbformat_minor": 2
}
